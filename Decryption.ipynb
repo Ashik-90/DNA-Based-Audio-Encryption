{
 "cells": [
  {
   "cell_type": "code",
   "execution_count": 80,
   "id": "8ffa27d3",
   "metadata": {},
   "outputs": [
    {
     "name": "stdout",
     "output_type": "stream",
     "text": [
      "44100\n"
     ]
    }
   ],
   "source": [
    "#from scipy.io.wavfile import read\n",
    "import numpy as np\n",
    "import soundfile as sf\n",
    "import sounddevice as sd\n",
    "import random\n",
    "import matplotlib.pyplot as plt\n",
    "from scipy.io import wavfile\n",
    "import time\n",
    "import wave\n",
    "file = 'dog.wav'\n",
    "with wave.open(file, 'rb') as wav_file:\n",
    "    sample_width = wav_file.getsampwidth()\n",
    "    num_channels = wav_file.getnchannels()\n",
    "    \n",
    "data, sr = sf.read('encrypted.wav', dtype='int16')  \n",
    "print(sr)\n",
    "sd.play(data)"
   ]
  },
  {
   "cell_type": "code",
   "execution_count": 81,
   "id": "459cd786",
   "metadata": {},
   "outputs": [
    {
     "name": "stdout",
     "output_type": "stream",
     "text": [
      "[[ -1580  20543]\n",
      " [ 12229 -16455]\n",
      " [-17972  -7259]\n",
      " ...\n",
      " [   512 -12544]\n",
      " [ -7988    564]\n",
      " [  4119      1]]\n"
     ]
    }
   ],
   "source": [
    "print(data)"
   ]
  },
  {
   "cell_type": "code",
   "execution_count": 82,
   "id": "89759739",
   "metadata": {},
   "outputs": [
    {
     "data": {
      "image/png": "[encoded data removed]",
      "text/plain": [
       "<Figure size 432x288 with 1 Axes>"
      ]
     },
     "metadata": {
      "needs_background": "light"
     },
     "output_type": "display_data"
    }
   ],
   "source": [
    "plt.plot(data)\n",
    "plt.title('Encrypted Plot')\n",
    "plt.xlabel('Sample Index')\n",
    "plt.ylabel('Amplitude')\n",
    "plt.show()"
   ]
  },
  {
   "cell_type": "code",
   "execution_count": null,
   "id": "726c1aac",
   "metadata": {},
   "outputs": [],
   "source": []
  },
  {
   "cell_type": "code",
   "execution_count": 83,
   "id": "ba5f7aed",
   "metadata": {},
   "outputs": [],
   "source": [
    "# fs, output = wavfile.read('encrypted.wav')\n",
    "# plt.plot(output)"
   ]
  },
  {
   "cell_type": "code",
   "execution_count": 84,
   "id": "e05d4138",
   "metadata": {},
   "outputs": [],
   "source": [
    "import wave\n",
    "import struct\n",
    "\n",
    "def audio_to_binary(filename):\n",
    "    with wave.open(filename, \"rb\") as wav_file:\n",
    "        # Read the binary data from the wave file\n",
    "        binary_data = wav_file.readframes(wav_file.getnframes())\n",
    "        # Unpack the binary data and return it as a list of integers\n",
    "        audio = list(struct.unpack(\"B\"*len(binary_data), binary_data))\n",
    "        \n",
    "        return np.vectorize(np.binary_repr)(audio, 8)\n",
    "\n",
    "\n",
    "def binary_to_audio(binary_data, filename, sample_width, channels, sample_rate=44100):\n",
    "    # Open a wave file for writing\n",
    "    with wave.open(filename, \"w\") as wav_file:\n",
    "        # Set the sample width and number of channels\n",
    "        wav_file.setsampwidth(sample_width)\n",
    "        wav_file.setnchannels(channels)\n",
    "        # Set the sample rate\n",
    "        wav_file.setframerate(sample_rate)\n",
    "        # Write the binary data to the wave file\n",
    "        for byte in binary_data:\n",
    "            data = struct.pack(\"B\", byte)\n",
    "            wav_file.writeframes(data)"
   ]
  },
  {
   "cell_type": "code",
   "execution_count": 85,
   "id": "1a6ccaee",
   "metadata": {},
   "outputs": [],
   "source": [
    "bin_audio_list = audio_to_binary(\"encrypted.wav\")       #max = 255, min=0 list of integers"
   ]
  },
  {
   "cell_type": "code",
   "execution_count": 86,
   "id": "00dc913d",
   "metadata": {},
   "outputs": [],
   "source": [
    "def DNA(line, l):\n",
    "    Base_map = {\"00\":\"A\", \"01\":\"G\", \"10\":\"C\", \"11\":\"T\"}\n",
    "    x=\"\"\n",
    "    temp = [line[i:i+2] for i in range(0, l, 2)]\n",
    "    for j in range (l//2) :\n",
    "         x += Base_map[temp[j]]\n",
    "    \n",
    "    return x\n",
    "\n",
    "def revDNA(line, l):\n",
    "    Code_map = {\"A\":\"00\", \"G\":\"01\", \"C\": \"10\", \"T\":\"11\"}\n",
    "    x = \"\"\n",
    "    temp = [line[i:i+1] for i in range(0,l)]\n",
    "    for j in range(l):\n",
    "        x += Code_map[temp[j]]\n",
    "    return x"
   ]
  },
  {
   "cell_type": "code",
   "execution_count": 87,
   "id": "66b42035",
   "metadata": {},
   "outputs": [],
   "source": [
    "starttime = time.time()"
   ]
  },
  {
   "cell_type": "code",
   "execution_count": 88,
   "id": "36f599ad",
   "metadata": {},
   "outputs": [],
   "source": [
    "a = ''.join([DNA(item, len(item)) for item in bin_audio_list])"
   ]
  },
  {
   "cell_type": "code",
   "execution_count": 89,
   "id": "842bf3ca",
   "metadata": {},
   "outputs": [],
   "source": [
    "#a"
   ]
  },
  {
   "cell_type": "code",
   "execution_count": 90,
   "id": "e14a57b8",
   "metadata": {},
   "outputs": [],
   "source": [
    "la = len(a)\n",
    "\n",
    "with open(\"key.txt\", \"r\") as file:\n",
    "    b=file.read()\n",
    "    \n",
    "lb= len(b)\n"
   ]
  },
  {
   "cell_type": "code",
   "execution_count": 91,
   "id": "11189ff6",
   "metadata": {},
   "outputs": [],
   "source": [
    "info=[]\n",
    "with open(\"info.txt\", \"r\") as file:\n",
    "    content = file.read()\n",
    "    content = content.split(\"\\n\")\n",
    "    info = [int(x) for x in content[0:len(content)-1]]\n",
    "    "
   ]
  },
  {
   "cell_type": "code",
   "execution_count": 92,
   "id": "d133a920",
   "metadata": {},
   "outputs": [],
   "source": [
    "import math\n",
    "rand = []\n",
    "d=''\n",
    "j=0\n",
    "k=0\n",
    "i=0\n",
    "ind = 0\n",
    "ran = 0\n",
    "flag = 1\n",
    "while(i<la):\n",
    "    if((a[i]=='A' and b[j]=='T') or (a[i]=='T' and b[j]=='A') or (a[i]=='G' and b[j]=='C') or (a[i]=='C' and b[j]=='G')):\n",
    "        d += a[i]\n",
    "        if(flag):      #first time on map\n",
    "            inc = math.isqrt(info[k] - (i**2))\n",
    "            ind = i\n",
    "            ran = inc\n",
    "            flag=0\n",
    "        else:\n",
    "            inc = (info[k] - ((len(d)-1)*ind))//ran\n",
    "        i += inc\n",
    "        k += 1\n",
    "    else:\n",
    "        d += a[i]\n",
    "    i += 1\n",
    "    j = (j+1)%lb\n",
    "    "
   ]
  },
  {
   "cell_type": "code",
   "execution_count": 93,
   "id": "13a0b66d",
   "metadata": {},
   "outputs": [],
   "source": [
    "#d"
   ]
  },
  {
   "cell_type": "code",
   "execution_count": 94,
   "id": "a925a510",
   "metadata": {},
   "outputs": [],
   "source": [
    "ld = len(d)\n",
    "split_d= [d[i:4+i] for i in range(0, ld, 4)]"
   ]
  },
  {
   "cell_type": "code",
   "execution_count": 95,
   "id": "574103b2",
   "metadata": {},
   "outputs": [],
   "source": [
    "split_audio = [int(p, 2) for p in [revDNA(item, len(item)) for item in split_d]]"
   ]
  },
  {
   "cell_type": "code",
   "execution_count": 96,
   "id": "e2eabadf",
   "metadata": {},
   "outputs": [],
   "source": [
    "#split_audio.pop()"
   ]
  },
  {
   "cell_type": "code",
   "execution_count": 97,
   "id": "cdaabb0b",
   "metadata": {},
   "outputs": [],
   "source": [
    "#split_audio[len(split_audio)-1] = 255"
   ]
  },
  {
   "cell_type": "code",
   "execution_count": 98,
   "id": "d8a18415",
   "metadata": {},
   "outputs": [],
   "source": [
    "#print(split_audio)"
   ]
  },
  {
   "cell_type": "code",
   "execution_count": null,
   "id": "c0b3ad14",
   "metadata": {},
   "outputs": [],
   "source": []
  },
  {
   "cell_type": "code",
   "execution_count": null,
   "id": "ada96374",
   "metadata": {},
   "outputs": [],
   "source": [
    "binary_to_audio(split_audio, 'decrypted.wav', sample_width, num_channels )\n",
    "endtime = time.time()"
   ]
  },
  {
   "cell_type": "code",
   "execution_count": null,
   "id": "ba948528",
   "metadata": {},
   "outputs": [],
   "source": [
    "with open(\"dectime.txt\", \"a\") as file:\n",
    "    file.write(str(lb))\n",
    "    file.write(\" \")\n",
    "    file.write(b)\n",
    "    file.write(\" \")\n",
    "    file.write(str(endtime-starttime))\n",
    "    file.write(\"\\n\")"
   ]
  },
  {
   "cell_type": "code",
   "execution_count": null,
   "id": "54ca5339",
   "metadata": {},
   "outputs": [],
   "source": [
    "data2, sr = sf.read('decrypted.wav', dtype='int16')  \n",
    "print(sr)\n",
    "sd.play(data2)"
   ]
  },
  {
   "cell_type": "code",
   "execution_count": null,
   "id": "d96cec0e",
   "metadata": {},
   "outputs": [],
   "source": [
    "plt.plot(data2)\n",
    "plt.title('Decrypted Plot')\n",
    "plt.xlabel('Sample Index')\n",
    "plt.ylabel('Amplitude')\n",
    "plt.show()"
   ]
  },
  {
   "cell_type": "code",
   "execution_count": null,
   "id": "4076c6ae",
   "metadata": {},
   "outputs": [],
   "source": [
    "# mapped_array = np.array([DNA(elem, 8) for elem in bin_audio_list])\n",
    "# print(mapped_array)"
   ]
  },
  {
   "cell_type": "code",
   "execution_count": null,
   "id": "a42e6e50",
   "metadata": {},
   "outputs": [],
   "source": []
  }
 ],
 "metadata": {
  "kernelspec": {
   "display_name": "Python 3 (ipykernel)",
   "language": "python",
   "name": "python3"
  },
  "language_info": {
   "codemirror_mode": {
    "name": "ipython",
    "version": 3
   },
   "file_extension": ".py",
   "mimetype": "text/x-python",
   "name": "python",
   "nbconvert_exporter": "python",
   "pygments_lexer": "ipython3",
   "version": "3.9.12"
  }
 },
 "nbformat": 4,
 "nbformat_minor": 5
}
