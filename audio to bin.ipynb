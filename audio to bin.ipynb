{
 "cells": [
  {
   "cell_type": "code",
   "execution_count": 434,
   "id": "6b612ee6",
   "metadata": {},
   "outputs": [
    {
     "name": "stdout",
     "output_type": "stream",
     "text": [
      "44100\n"
     ]
    }
   ],
   "source": [
    "from scipy.io.wavfile import read\n",
    "import numpy as np, ash\n",
    "import soundfile as sf\n",
    "import sounddevice as sd\n",
    "import random\n",
    "\n",
    "data, sr = sf.read('dog.wav', dtype='int16')  \n",
    "print(sr)\n",
    "sd.play(data)"
   ]
  },
  {
   "cell_type": "code",
   "execution_count": 435,
   "id": "c846dce2",
   "metadata": {},
   "outputs": [
    {
     "name": "stdout",
     "output_type": "stream",
     "text": [
      "[[-44 -37]\n",
      " [-45 -39]\n",
      " [-46 -43]\n",
      " ...\n",
      " [  0   1]\n",
      " [  0   2]\n",
      " [  0   0]]\n"
     ]
    }
   ],
   "source": [
    "print(data)"
   ]
  },
  {
   "cell_type": "code",
   "execution_count": 436,
   "id": "ad606015",
   "metadata": {},
   "outputs": [],
   "source": [
    "import wave\n",
    "import struct\n",
    "\n",
    "def audio_to_binary(filename):\n",
    "    with wave.open(filename, \"rb\") as wav_file:\n",
    "        # Read the binary data from the wave file\n",
    "        binary_data = wav_file.readframes(wav_file.getnframes())\n",
    "        # Unpack the binary data and return it as a list of integers\n",
    "        audio = list(struct.unpack(\"B\"*len(binary_data), binary_data))\n",
    "        return audio\n",
    "        #return np.vectorize(np.binary_repr)(audio, 8)\n",
    "\n",
    "\n",
    "def binary_to_audio(binary_data, filename, sample_rate=44100, sample_width=2, channels=2):\n",
    "    # Open a wave file for writing\n",
    "    with wave.open(filename, \"w\") as wav_file:\n",
    "        # Set the sample width and number of channels\n",
    "        wav_file.setsampwidth(sample_width)\n",
    "        wav_file.setnchannels(channels)\n",
    "        # Set the sample rate\n",
    "        wav_file.setframerate(sample_rate)\n",
    "        # Write the binary data to the wave file\n",
    "        for byte in binary_data:\n",
    "            data = struct.pack(\"B\", byte)\n",
    "            wav_file.writeframes(data)"
   ]
  },
  {
   "cell_type": "code",
   "execution_count": 437,
   "id": "0355b080",
   "metadata": {},
   "outputs": [],
   "source": [
    "audio = audio_to_binary(\"dog.wav\")       #max = 255, min=0 list of integers\n",
    "bin_audio_list =  np.vectorize(np.binary_repr)(audio, 8)\n",
    "\n",
    "bin_audio_str = ''.join(bin_audio_list)\n"
   ]
  },
  {
   "cell_type": "code",
   "execution_count": 438,
   "id": "03753dd9",
   "metadata": {},
   "outputs": [],
   "source": [
    "#binary_to_audio(audio, 'hello.wav')  "
   ]
  },
  {
   "cell_type": "code",
   "execution_count": 439,
   "id": "fffb135c",
   "metadata": {},
   "outputs": [],
   "source": [
    "def DNA(line, l):\n",
    "    Base_map = {\"00\":\"A\", \"01\":\"G\", \"10\":\"C\", \"11\":\"T\"}\n",
    "    x=\"\"\n",
    "    temp = [line[i:i+2] for i in range(0, l, 2)]\n",
    "    for j in range (l//2) :\n",
    "         x += Base_map[temp[j]]\n",
    "    \n",
    "    return x\n",
    "\n",
    "def revDNA(line, l):\n",
    "    Code_map = {\"A\":\"00\", \"G\":\"01\", \"C\": \"10\", \"T\":\"11\"}\n",
    "    x = \"\"\n",
    "    temp = [line[i:i+1] for i in range(0,l)]\n",
    "    for j in range(l):\n",
    "        x += Code_map[temp[j]]\n",
    "    return x"
   ]
  },
  {
   "cell_type": "code",
   "execution_count": 440,
   "id": "21c816cd",
   "metadata": {},
   "outputs": [
    {
     "name": "stdout",
     "output_type": "stream",
     "text": [
      "['TGGA' 'TTTT' 'TGCT' ... 'AAAA' 'AAAA' 'AAAA']\n"
     ]
    }
   ],
   "source": [
    "mapped_array = np.array([DNA(elem, 8) for elem in bin_audio_list])\n",
    "print(mapped_array)"
   ]
  },
  {
   "cell_type": "code",
   "execution_count": null,
   "id": "225373af",
   "metadata": {},
   "outputs": [],
   "source": []
  },
  {
   "cell_type": "code",
   "execution_count": 441,
   "id": "1711bdce",
   "metadata": {},
   "outputs": [],
   "source": [
    "pre_encrypt = ''.join(mapped_array)\n"
   ]
  },
  {
   "cell_type": "code",
   "execution_count": 442,
   "id": "c5fc7bda",
   "metadata": {},
   "outputs": [],
   "source": [
    "#print(pre_encrypt)\n"
   ]
  },
  {
   "cell_type": "code",
   "execution_count": 443,
   "id": "a527c1fc",
   "metadata": {},
   "outputs": [],
   "source": [
    "#key = np.array([random.randrange(2) for _ in range(200)])\n",
    "key = 'ATATCTGCGTACGTACGTACGTACGTACGTTGAACGTAACGGTACGT'\n",
    "key_size = len(key)"
   ]
  },
  {
   "cell_type": "code",
   "execution_count": 444,
   "id": "8d0cdbf8",
   "metadata": {
    "scrolled": true
   },
   "outputs": [
    {
     "name": "stdout",
     "output_type": "stream",
     "text": [
      "0011001110110110011100100111001001110010011100100111001001111101000010011100001001011100100111\n"
     ]
    }
   ],
   "source": [
    "print(revDNA(key, 47))"
   ]
  },
  {
   "cell_type": "code",
   "execution_count": 445,
   "id": "cfae3da6",
   "metadata": {},
   "outputs": [
    {
     "name": "stdout",
     "output_type": "stream",
     "text": [
      "11100111010010011\n"
     ]
    }
   ],
   "source": [
    "bin_key = revDNA(key, 47)\n",
    "\n",
    "y = int(bin_key[0:17],2) ^ int(bin_audio_str[0:17],2)\n",
    "print('{0:b}'.format(y))"
   ]
  },
  {
   "cell_type": "code",
   "execution_count": 446,
   "id": "a8283247",
   "metadata": {},
   "outputs": [
    {
     "name": "stdout",
     "output_type": "stream",
     "text": [
      "chunk =  ['ATATCT', 'GCGTAC', 'GTACGT', 'ACGTAC', 'GTACGT', 'TGAACG', 'TAACGG', 'TACGAC', 'CC']\n"
     ]
    }
   ],
   "source": [
    "a = 'ATATCTGCGTACGTACGTACGTACGTACGTTGAACGTAACGGTACGACCC'\n",
    "la = len(a)\n",
    "b = 'AGTCGT'\n",
    "lb = len(b)\n",
    "chunk = [a[0+i:lb+i] for i in range(0, la, lb)]\n",
    "print(\"chunk = \", chunk)\n"
   ]
  },
  {
   "cell_type": "code",
   "execution_count": 447,
   "id": "1b498cc4",
   "metadata": {},
   "outputs": [],
   "source": [
    "def Xor_string(a,b):\n",
    "    x=''\n",
    "    for i in range(len(a)):\n",
    "        if (a[i] == b[i]):\n",
    "            x+= '0'\n",
    "        else:\n",
    "            x+= '1'\n",
    "    return x\n"
   ]
  },
  {
   "cell_type": "code",
   "execution_count": 448,
   "id": "b63079e9",
   "metadata": {},
   "outputs": [
    {
     "name": "stdout",
     "output_type": "stream",
     "text": [
      "['001011011100', '011110010101', '011011000000', '001110010101', '011011000000', '110011101110', '110111000010', '110101110101', '1011']\n"
     ]
    }
   ],
   "source": [
    "key_val = revDNA(b, lb)\n",
    "temp = chunk[len(chunk)-1]\n",
    "x = Xor_string(key_val[0:len(temp)*2],revDNA(temp, len(temp)))\n",
    "xorval = [Xor_string(key_val, revDNA(item,lb)) for item in chunk[0:len(chunk)-1]]\n",
    "xorval.append(x)\n",
    "\n",
    "print(xorval)"
   ]
  },
  {
   "cell_type": "code",
   "execution_count": 449,
   "id": "4ddbdd2a",
   "metadata": {},
   "outputs": [],
   "source": [
    "def mapDNA(xorlist):\n",
    "    j=0\n",
    "    l = len(xorlist[0])\n",
    "    x = []\n",
    "    for xor in xorlist:\n",
    "        litem = len(xor)\n",
    "        for i in range(0, litem-1, 2):\n",
    "            if(xor[i]=='1' and xor[i+1]=='1'):\n",
    "                x.append((i+j*l)//2)\n",
    "        j+=1\n",
    "    return x\n"
   ]
  },
  {
   "cell_type": "code",
   "execution_count": null,
   "id": "728ab4b2",
   "metadata": {},
   "outputs": [],
   "source": []
  },
  {
   "cell_type": "code",
   "execution_count": 450,
   "id": "e2827d3e",
   "metadata": {},
   "outputs": [
    {
     "name": "stdout",
     "output_type": "stream",
     "text": [
      "[2, 4, 7, 14, 19, 26, 30, 32, 34, 36, 38, 42, 45, 49]\n"
     ]
    }
   ],
   "source": [
    "index = mapDNA(xorval)\n",
    "print(index)\n"
   ]
  },
  {
   "cell_type": "code",
   "execution_count": null,
   "id": "82262274",
   "metadata": {},
   "outputs": [],
   "source": []
  },
  {
   "cell_type": "code",
   "execution_count": 451,
   "id": "93803a40",
   "metadata": {},
   "outputs": [
    {
     "name": "stdout",
     "output_type": "stream",
     "text": [
      "[6, 5, 1, 4, 1, 4, 3, 1, 1, 2, 5, 3, 3, 5]\n"
     ]
    }
   ],
   "source": [
    "randlen = [random.randint(1,6) for i in range (len(index))]\n",
    "print(randlen)\n",
    "    "
   ]
  },
  {
   "cell_type": "code",
   "execution_count": 452,
   "id": "aff69a89",
   "metadata": {},
   "outputs": [],
   "source": [
    "encr_str = []\n",
    "x=''\n",
    "for val in randlen:\n",
    "    for i in range(val*2):\n",
    "        x += str(random.randint(0,1))\n",
    "    encr_str.append(DNA(x, len(x)))\n",
    "    x=''"
   ]
  },
  {
   "cell_type": "code",
   "execution_count": 453,
   "id": "f37abdc3",
   "metadata": {},
   "outputs": [
    {
     "data": {
      "text/plain": [
       "['AGAGTC',\n",
       " 'TGGTT',\n",
       " 'T',\n",
       " 'AAGC',\n",
       " 'A',\n",
       " 'TGAT',\n",
       " 'GTT',\n",
       " 'C',\n",
       " 'T',\n",
       " 'TG',\n",
       " 'TGTTT',\n",
       " 'AAG',\n",
       " 'GCG',\n",
       " 'TCCTC']"
      ]
     },
     "execution_count": 453,
     "metadata": {},
     "output_type": "execute_result"
    }
   ],
   "source": [
    "encr_str"
   ]
  },
  {
   "cell_type": "code",
   "execution_count": 454,
   "id": "bef2fa36",
   "metadata": {},
   "outputs": [],
   "source": [
    "splitted=[a[0:index[0]+1]]\n",
    "for i in range(len(index)-1): \n",
    "    splitted.append(a[index[i]+1:index[i+1]+1])\n",
    "splitted.append(a[index[i+1]+1:la])"
   ]
  },
  {
   "cell_type": "code",
   "execution_count": 455,
   "id": "b0c8a8d6",
   "metadata": {},
   "outputs": [
    {
     "name": "stdout",
     "output_type": "stream",
     "text": [
      "['ATA', 'TC', 'TGC', 'GTACGTA', 'CGTAC', 'GTACGTA', 'CGTT', 'GA', 'AC', 'GT', 'AA', 'CGGT', 'ACG', 'ACCC', '']\n"
     ]
    }
   ],
   "source": [
    "#a = 'ATA TC TGC GTACGTA CGTAC GTACGTA CGTT GA AC GT AA CGGT ACG ACT'\n",
    "# index = [2, 4, 7, 14, 19, 26, 30, 32, 34, 36, 38, 42, 45, 48]\n",
    "print(splitted)"
   ]
  },
  {
   "cell_type": "code",
   "execution_count": 456,
   "id": "921f823b",
   "metadata": {},
   "outputs": [],
   "source": [
    "#binary_to_audio(binary_data, \"example3.wav\")"
   ]
  },
  {
   "cell_type": "code",
   "execution_count": 457,
   "id": "223ae9cd",
   "metadata": {},
   "outputs": [],
   "source": [
    "ploughed=''\n",
    "for i in range(len(encr_str)):\n",
    "    ploughed += splitted[i]\n",
    "    ploughed += encr_str[i]\n",
    "ploughed += splitted[i+1]"
   ]
  },
  {
   "cell_type": "code",
   "execution_count": 458,
   "id": "8e19edb0",
   "metadata": {},
   "outputs": [
    {
     "name": "stdout",
     "output_type": "stream",
     "text": [
      "\n"
     ]
    }
   ],
   "source": [
    "print(splitted[i+1])"
   ]
  },
  {
   "cell_type": "code",
   "execution_count": 459,
   "id": "6c146164",
   "metadata": {},
   "outputs": [
    {
     "data": {
      "text/plain": [
       "'ATAAGAGTCTCTGGTTTGCTGTACGTAAAGCCGTACAGTACGTATGATCGTTGTTGACACTGTTGAATGTTTCGGTAAGACGGCGACCCTCCTC'"
      ]
     },
     "execution_count": 459,
     "metadata": {},
     "output_type": "execute_result"
    }
   ],
   "source": [
    "ploughed"
   ]
  },
  {
   "cell_type": "code",
   "execution_count": 460,
   "id": "b3a7f5ca",
   "metadata": {},
   "outputs": [],
   "source": [
    "lp = len(ploughed)\n",
    "ploughed= [ploughed[0+i:lb+i] for i in range(0, lp, lb)]"
   ]
  },
  {
   "cell_type": "code",
   "execution_count": 461,
   "id": "a5c42d02",
   "metadata": {},
   "outputs": [
    {
     "data": {
      "text/plain": [
       "['ATAAGA',\n",
       " 'GTCTCT',\n",
       " 'GGTTTG',\n",
       " 'CTGTAC',\n",
       " 'GTAAAG',\n",
       " 'CCGTAC',\n",
       " 'AGTACG',\n",
       " 'TATGAT',\n",
       " 'CGTTGT',\n",
       " 'TGACAC',\n",
       " 'TGTTGA',\n",
       " 'ATGTTT',\n",
       " 'CGGTAA',\n",
       " 'GACGGC',\n",
       " 'GACCCT',\n",
       " 'CCTC']"
      ]
     },
     "execution_count": 461,
     "metadata": {},
     "output_type": "execute_result"
    }
   ],
   "source": [
    "ploughed"
   ]
  },
  {
   "cell_type": "code",
   "execution_count": 462,
   "id": "ea3650ba",
   "metadata": {},
   "outputs": [],
   "source": [
    "ploughed_bin = [revDNA(item, len(item)) for item in ploughed]"
   ]
  },
  {
   "cell_type": "code",
   "execution_count": 463,
   "id": "ac69f783",
   "metadata": {},
   "outputs": [
    {
     "data": {
      "text/plain": [
       "['001100000100',\n",
       " '011110111011',\n",
       " '010111111101',\n",
       " '101101110010',\n",
       " '011100000001',\n",
       " '101001110010',\n",
       " '000111001001',\n",
       " '110011010011',\n",
       " '100111110111',\n",
       " '110100100010',\n",
       " '110111110100',\n",
       " '001101111111',\n",
       " '100101110000',\n",
       " '010010010110',\n",
       " '010010101011',\n",
       " '10101110']"
      ]
     },
     "execution_count": 463,
     "metadata": {},
     "output_type": "execute_result"
    }
   ],
   "source": [
    "ploughed_bin"
   ]
  },
  {
   "cell_type": "code",
   "execution_count": 464,
   "id": "70d62a86",
   "metadata": {},
   "outputs": [],
   "source": [
    "ploughed_audio = [int(item, 2) for item in ploughed_bin]"
   ]
  },
  {
   "cell_type": "code",
   "execution_count": 465,
   "id": "8509811e",
   "metadata": {},
   "outputs": [
    {
     "data": {
      "text/plain": [
       "[772,\n",
       " 1979,\n",
       " 1533,\n",
       " 2930,\n",
       " 1793,\n",
       " 2674,\n",
       " 457,\n",
       " 3283,\n",
       " 2551,\n",
       " 3362,\n",
       " 3572,\n",
       " 895,\n",
       " 2416,\n",
       " 1174,\n",
       " 1195,\n",
       " 174]"
      ]
     },
     "execution_count": 465,
     "metadata": {},
     "output_type": "execute_result"
    }
   ],
   "source": [
    "ploughed_audio"
   ]
  },
  {
   "cell_type": "code",
   "execution_count": 466,
   "id": "6daa83be",
   "metadata": {},
   "outputs": [],
   "source": [
    "binary_to_audio([item%256 for item in ploughed_audio], 'encrypted.wav')"
   ]
  },
  {
   "cell_type": "code",
   "execution_count": null,
   "id": "a04ec918",
   "metadata": {},
   "outputs": [],
   "source": []
  }
 ],
 "metadata": {
  "kernelspec": {
   "display_name": "Python 3 (ipykernel)",
   "language": "python",
   "name": "python3"
  },
  "language_info": {
   "codemirror_mode": {
    "name": "ipython",
    "version": 3
   },
   "file_extension": ".py",
   "mimetype": "text/x-python",
   "name": "python",
   "nbconvert_exporter": "python",
   "pygments_lexer": "ipython3",
   "version": "3.9.12"
  }
 },
 "nbformat": 4,
 "nbformat_minor": 5
}
