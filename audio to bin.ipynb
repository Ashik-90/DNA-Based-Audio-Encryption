{
 "cells": [
  {
   "cell_type": "code",
   "execution_count": 95,
   "id": "6b612ee6",
   "metadata": {},
   "outputs": [
    {
     "name": "stdout",
     "output_type": "stream",
     "text": [
      "44100\n"
     ]
    }
   ],
   "source": [
    "from scipy.io.wavfile import read\n",
    "import numpy as np\n",
    "import soundfile as sf\n",
    "import sounddevice as sd\n",
    "import random\n",
    "\n",
    "data, sr = sf.read('dog.wav', dtype='int16')  \n",
    "print(sr)\n",
    "sd.play(data)"
   ]
  },
  {
   "cell_type": "code",
   "execution_count": 96,
   "id": "c846dce2",
   "metadata": {},
   "outputs": [
    {
     "name": "stdout",
     "output_type": "stream",
     "text": [
      "[[-44 -37]\n",
      " [-45 -39]\n",
      " [-46 -43]\n",
      " ...\n",
      " [  0   1]\n",
      " [  0   2]\n",
      " [  0   0]]\n"
     ]
    }
   ],
   "source": [
    "print(data)"
   ]
  },
  {
   "cell_type": "code",
   "execution_count": 90,
   "id": "ad606015",
   "metadata": {},
   "outputs": [],
   "source": [
    "import wave\n",
    "import struct\n",
    "\n",
    "def audio_to_binary(filename):\n",
    "    with wave.open(filename, \"rb\") as wav_file:\n",
    "        # Read the binary data from the wave file\n",
    "        binary_data = wav_file.readframes(wav_file.getnframes())\n",
    "        # Unpack the binary data and return it as a list of integers\n",
    "        audio = list(struct.unpack(\"B\"*len(binary_data), binary_data))\n",
    "        return audio\n",
    "        #return np.vectorize(np.binary_repr)(audio, 8)\n",
    "\n",
    "\n",
    "def binary_to_audio(binary_data, filename, sample_rate=44100, sample_width=2, channels=2):\n",
    "    # Open a wave file for writing\n",
    "    with wave.open(filename, \"w\") as wav_file:\n",
    "        # Set the sample width and number of channels\n",
    "        wav_file.setsampwidth(sample_width)\n",
    "        wav_file.setnchannels(channels)\n",
    "        # Set the sample rate\n",
    "        wav_file.setframerate(sample_rate)\n",
    "        # Write the binary data to the wave file\n",
    "        for byte in binary_data:\n",
    "            data = struct.pack(\"B\", byte)\n",
    "            wav_file.writeframes(data)"
   ]
  },
  {
   "cell_type": "code",
   "execution_count": 101,
   "id": "0355b080",
   "metadata": {},
   "outputs": [
    {
     "name": "stdout",
     "output_type": "stream",
     "text": [
      "255 0\n"
     ]
    }
   ],
   "source": [
    "audio = audio_to_binary(\"dog.wav\")       #max = 255, min=0 list of integers\n",
    "bin_audio_list =  np.vectorize(np.binary_repr)(audio, 8)\n",
    "\n",
    "bin_audio_str = ''.join(bin_audio_list)\n"
   ]
  },
  {
   "cell_type": "code",
   "execution_count": 94,
   "id": "ab39bd68",
   "metadata": {},
   "outputs": [],
   "source": [
    "#binary_to_audio(audio, 'hello.wav')  "
   ]
  },
  {
   "cell_type": "code",
   "execution_count": null,
   "id": "fffb135c",
   "metadata": {},
   "outputs": [],
   "source": [
    "def DNA(line, l):\n",
    "    Base_map = {\"00\":\"A\", \"01\":\"G\", \"10\":\"C\", \"11\":\"T\"}\n",
    "    x=\"\"\n",
    "    temp = [line[i:i+2] for i in range(0, l, 2)]\n",
    "    for j in range (l//2) :\n",
    "         x += Base_map[temp[j]]\n",
    "    \n",
    "    return x\n",
    "\n",
    "def revDNA(line, l):\n",
    "    Code_map = {\"A\":\"00\", \"G\":\"01\", \"C\": \"10\", \"T\":\"11\"}\n",
    "    x = \"\"\n",
    "    temp = [line[i:i+1] for i in range(0,l)]\n",
    "    for j in range(l):\n",
    "        x += Code_map[temp[j]]\n",
    "    return x"
   ]
  },
  {
   "cell_type": "code",
   "execution_count": 102,
   "id": "21c816cd",
   "metadata": {},
   "outputs": [
    {
     "name": "stdout",
     "output_type": "stream",
     "text": [
      "['TGGA' 'TTTT' 'TGCT' ... 'AAAA' 'AAAA' 'AAAA']\n"
     ]
    }
   ],
   "source": [
    "mapped_array = np.array([DNA(elem, 8) for elem in bin_audio_list])\n",
    "print(mapped_array)"
   ]
  },
  {
   "cell_type": "code",
   "execution_count": null,
   "id": "225373af",
   "metadata": {},
   "outputs": [],
   "source": []
  },
  {
   "cell_type": "code",
   "execution_count": 104,
   "id": "1711bdce",
   "metadata": {},
   "outputs": [],
   "source": [
    "pre_encrypt = ''.join(mapped_array)\n"
   ]
  },
  {
   "cell_type": "code",
   "execution_count": 106,
   "id": "c5fc7bda",
   "metadata": {},
   "outputs": [],
   "source": [
    "#print(pre_encrypt)\n"
   ]
  },
  {
   "cell_type": "code",
   "execution_count": null,
   "id": "a527c1fc",
   "metadata": {},
   "outputs": [],
   "source": [
    "#key = np.array([random.randrange(2) for _ in range(200)])\n",
    "key = 'ATATCTGCGTACGTACGTACGTACGTACGTTGAACGTAACGGTACGT'\n",
    "key_size = len(key)"
   ]
  },
  {
   "cell_type": "code",
   "execution_count": null,
   "id": "8d0cdbf8",
   "metadata": {
    "scrolled": true
   },
   "outputs": [],
   "source": [
    "print(revDNA(key, 47))"
   ]
  },
  {
   "cell_type": "code",
   "execution_count": null,
   "id": "cfae3da6",
   "metadata": {},
   "outputs": [],
   "source": [
    "bin_key = revDNA(key, 47)\n",
    "\n",
    "y = int(bin_key[0:17],2) ^ int(bin_audio_str[0:17],2)\n",
    "print('{0:b}'.format(y))"
   ]
  },
  {
   "cell_type": "code",
   "execution_count": null,
   "id": "a8283247",
   "metadata": {},
   "outputs": [],
   "source": [
    "a = 'ATATCTGCGTACGTACGTACGTACGTACGTTGAACGTAACGGTACGAA'\n",
    "la = len(a)\n",
    "b = 'ATTCG'\n",
    "lb = len(b)\n",
    "chunk = [a[0+i:lb+i] for i in range(0, la, lb)]\n",
    "print(\"chunk = \", chunk)\n"
   ]
  },
  {
   "cell_type": "code",
   "execution_count": null,
   "id": "1b498cc4",
   "metadata": {},
   "outputs": [],
   "source": [
    "def Xor_string(a,b):\n",
    "    x=''\n",
    "    for i in range(len(a)):\n",
    "        if (a[i] == b[i]):\n",
    "            x+= '0'\n",
    "        else:\n",
    "            x+= '1'\n",
    "    return x\n"
   ]
  },
  {
   "cell_type": "code",
   "execution_count": null,
   "id": "b63079e9",
   "metadata": {},
   "outputs": [],
   "source": [
    "key_val = revDNA(b, lb)\n",
    "temp = chunk[len(chunk)-1]\n",
    "x = Xor_string(key_val[0:len(temp)*2],revDNA(temp, len(temp)))\n",
    "xorval = [Xor_string(key_val, revDNA(item,lb)) for item in chunk[0:len(chunk)-1]]\n",
    "xorval.append(x)\n",
    "\n",
    "print(xorval)"
   ]
  },
  {
   "cell_type": "code",
   "execution_count": null,
   "id": "4ddbdd2a",
   "metadata": {},
   "outputs": [],
   "source": [
    "def mapDNA(xorlist):\n",
    "    j=0\n",
    "    l = len(xorlist[0])\n",
    "    x = []\n",
    "    for xor in xorlist:\n",
    "        litem = len(xor)\n",
    "        for i in range(0, litem-1, 2):\n",
    "            if(xor[i]=='1' and xor[i+1]=='1'):\n",
    "                x.append((i+j*l)//2)\n",
    "        j+=1\n",
    "    return x\n"
   ]
  },
  {
   "cell_type": "code",
   "execution_count": 111,
   "id": "274964a7",
   "metadata": {},
   "outputs": [
    {
     "name": "stdout",
     "output_type": "stream",
     "text": [
      "[2, 4, 5, 8, 19, 22, 25, 26, 28, 30, 32, 34, 37, 39, 44, 46, 47]\n"
     ]
    }
   ],
   "source": [
    "index = mapDNA(xorval)\n",
    "print(index)\n"
   ]
  },
  {
   "cell_type": "code",
   "execution_count": 123,
   "id": "f4a0153e",
   "metadata": {},
   "outputs": [
    {
     "name": "stdout",
     "output_type": "stream",
     "text": [
      "[2, 3, 3, 2, 5, 5, 5, 3, 5, 4, 2, 4, 3, 6, 6, 2, 3]\n"
     ]
    }
   ],
   "source": [
    "randlen = [random.randint(1,6) for i in range (len(index))]\n",
    "print(randlen)\n",
    "    "
   ]
  },
  {
   "cell_type": "code",
   "execution_count": 126,
   "id": "93595f6e",
   "metadata": {},
   "outputs": [],
   "source": [
    "encr_str = []\n",
    "x=''\n",
    "for val in randlen:\n",
    "    for i in range(val*2):\n",
    "        x += str(random.randint(0,1))\n",
    "    encr_str.append(DNA(x, len(x)))\n",
    "    x=''"
   ]
  },
  {
   "cell_type": "code",
   "execution_count": 127,
   "id": "0914ea51",
   "metadata": {},
   "outputs": [
    {
     "data": {
      "text/plain": [
       "['AA',\n",
       " 'TCC',\n",
       " 'GAG',\n",
       " 'AG',\n",
       " 'AGCAC',\n",
       " 'TCAGG',\n",
       " 'CAGTC',\n",
       " 'TGT',\n",
       " 'GTCAT',\n",
       " 'GCCA',\n",
       " 'GG',\n",
       " 'ACGT',\n",
       " 'TTG',\n",
       " 'ACAGGA',\n",
       " 'ACATAG',\n",
       " 'TT',\n",
       " 'AAC']"
      ]
     },
     "execution_count": 127,
     "metadata": {},
     "output_type": "execute_result"
    }
   ],
   "source": [
    "encr_str"
   ]
  },
  {
   "cell_type": "code",
   "execution_count": null,
   "id": "e4cf3b14",
   "metadata": {},
   "outputs": [],
   "source": []
  },
  {
   "cell_type": "code",
   "execution_count": null,
   "id": "921f823b",
   "metadata": {},
   "outputs": [],
   "source": [
    "#binary_to_audio(binary_data, \"example3.wav\")"
   ]
  },
  {
   "cell_type": "code",
   "execution_count": null,
   "id": "223ae9cd",
   "metadata": {},
   "outputs": [],
   "source": []
  }
 ],
 "metadata": {
  "kernelspec": {
   "display_name": "Python 3 (ipykernel)",
   "language": "python",
   "name": "python3"
  },
  "language_info": {
   "codemirror_mode": {
    "name": "ipython",
    "version": 3
   },
   "file_extension": ".py",
   "mimetype": "text/x-python",
   "name": "python",
   "nbconvert_exporter": "python",
   "pygments_lexer": "ipython3",
   "version": "3.9.12"
  }
 },
 "nbformat": 4,
 "nbformat_minor": 5
}
