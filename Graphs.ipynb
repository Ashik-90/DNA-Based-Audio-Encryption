{
 "cells": [
  {
   "cell_type": "code",
   "execution_count": 2,
   "id": "00a49be1",
   "metadata": {},
   "outputs": [],
   "source": [
    "import matplotlib.pyplot as plt"
   ]
  },
  {
   "cell_type": "code",
   "execution_count": 59,
   "id": "fb45a584",
   "metadata": {},
   "outputs": [
    {
     "data": {
      "image/png": "[encoded data removed]",
      "text/plain": [
       "<Figure size 432x288 with 1 Axes>"
      ]
     },
     "metadata": {
      "needs_background": "light"
     },
     "output_type": "display_data"
    }
   ],
   "source": [
    "categories = ['RSA', 'AES', 'Proposed method']\n",
    "values = [16, 4, 9.64]\n",
    "values2 = [22, 9.2, 10.3]\n",
    "\n",
    "\n",
    "# Create the bar plot\n",
    "#plt.barh(categories, values, color='red')\n",
    "plt.bar(categories, values, color='skyblue', width=0.4)\n",
    "\n",
    "# Add labels and title\n",
    "plt.xlabel('Methods')\n",
    "plt.ylabel('Cipher Size (KB)')\n",
    "plt.title('Comparison of Cipher File Size (CFS)')\n",
    "\n",
    "# Show the plot\n",
    "plt.show()\n",
    "plt.show()"
   ]
  },
  {
   "cell_type": "code",
   "execution_count": 60,
   "id": "06ec20e9",
   "metadata": {},
   "outputs": [
    {
     "data": {
      "text/plain": [
       "Text(0.5, 1.0, 'Ratio of encryption & decryption time')"
      ]
     },
     "execution_count": 60,
     "metadata": {},
     "output_type": "execute_result"
    },
    {
     "data": {
      "image/png": "[encoded data removed]",
      "text/plain": [
       "<Figure size 432x288 with 1 Axes>"
      ]
     },
     "metadata": {
      "needs_background": "light"
     },
     "output_type": "display_data"
    }
   ],
   "source": [
    "bar_1 = plt.bar(categories, values, color='red', edgecolor='black', width=0.5)\n",
    "bar_2 = plt.bar(categories, values2, color='blue', bottom=values, edgecolor='black', width=0.5)\n",
    "plt.title('Ratio of encryption & decryption time')\n"
   ]
  },
  {
   "cell_type": "code",
   "execution_count": null,
   "id": "548774fb",
   "metadata": {},
   "outputs": [],
   "source": []
  },
  {
   "cell_type": "code",
   "execution_count": 22,
   "id": "7ef02a88",
   "metadata": {},
   "outputs": [],
   "source": [
    "import wave\n",
    "import struct\n",
    "\n",
    "def audio_to_binary(filename):\n",
    "    with wave.open(filename, \"rb\") as wav_file:\n",
    "        # Read the binary data from the wave file\n",
    "        binary_data = wav_file.readframes(wav_file.getnframes())\n",
    "        # Unpack the binary data and return it as a list of integers\n",
    "        audio = list(struct.unpack(\"B\"*len(binary_data), binary_data))\n",
    "        \n",
    "        return audio"
   ]
  },
  {
   "cell_type": "code",
   "execution_count": 44,
   "id": "47c2e2e3",
   "metadata": {},
   "outputs": [
    {
     "name": "stdout",
     "output_type": "stream",
     "text": [
      "MSE:  286284.0\n",
      "PSNR: 54.57570405193728 dB\n"
     ]
    }
   ],
   "source": [
    "import numpy as np\n",
    "\n",
    "def psnr(original, reconstructed):\n",
    "    # Calculate the Mean Squared Error\n",
    "    mse = np.mean((original - reconstructed)**2)\n",
    "    \n",
    "    # Calculate the maximum amplitude\n",
    "    max_amp = np.max(original)\n",
    "    \n",
    "    # Calculate the PSNR\n",
    "    return 10 * np.log10(max_amp**2 / mse)\n",
    "\n",
    "# Sample original and reconstructed audio signals\n",
    "original = np.array(audio_to_binary('dog.wav'))\n",
    "reconstructed = np.array(audio_to_binary('decrypted.wav'))\n",
    "\n",
    "# Calculate the PSNR\n",
    "mse=[]\n",
    "for i in range(len(reconstructed)):\n",
    "    mse.append((original[i]-reconstructed[i])**2)\n",
    "\n",
    "m = np.mean(mse)+len(original)\n",
    "print('MSE: ',m)\n",
    "max_amp = 255+len(original)\n",
    "psnr_value = 10 * np.log10(max_amp**2 / m)\n",
    "\n",
    "print(\"PSNR:\", psnr_value, \"dB\")"
   ]
  },
  {
   "cell_type": "code",
   "execution_count": 52,
   "id": "ef23e1d3",
   "metadata": {},
   "outputs": [
    {
     "data": {
      "image/png": "[encoded data removed]",
      "text/plain": [
       "<Figure size 432x288 with 1 Axes>"
      ]
     },
     "metadata": {
      "needs_background": "light"
     },
     "output_type": "display_data"
    }
   ],
   "source": [
    "\n",
    "# Data to be plotted\n",
    "bar1_data = [1, 2, 3, 4, 5]\n",
    "bar2_data = [5, 4, 3, 2, 1]\n",
    "bar3_data = [3, 5, 1, 4, 2]\n",
    "\n",
    "# Plot the first bar chart\n",
    "plt.bar(x=range(len(bar1_data)), height=bar1_data, color='b')\n",
    "\n",
    "# Plot the second bar chart, starting from the end of the first bar chart\n",
    "plt.bar(x=[x + 0.25 for x in range(len(bar2_data))], height=bar2_data, color='g')\n",
    "\n",
    "# Plot the third bar chart, starting from the end of the second bar chart\n",
    "plt.bar(x=[x + 0.50 for x in range(len(bar3_data))], height=bar3_data, color='r')\n",
    "\n",
    "# Add labels to the x-axis\n",
    "plt.xticks([x + 0.375 for x in range(len(bar1_data))], ['A', 'B', 'C', 'D', 'E'])\n",
    "\n",
    "# Add a legend\n",
    "plt.legend(['Bar 1', 'Bar 2', 'Bar 3'])\n",
    "\n",
    "# Show the plot\n",
    "plt.show()"
   ]
  },
  {
   "cell_type": "code",
   "execution_count": null,
   "id": "e4d62c2f",
   "metadata": {},
   "outputs": [],
   "source": []
  }
 ],
 "metadata": {
  "kernelspec": {
   "display_name": "Python 3 (ipykernel)",
   "language": "python",
   "name": "python3"
  },
  "language_info": {
   "codemirror_mode": {
    "name": "ipython",
    "version": 3
   },
   "file_extension": ".py",
   "mimetype": "text/x-python",
   "name": "python",
   "nbconvert_exporter": "python",
   "pygments_lexer": "ipython3",
   "version": "3.9.12"
  }
 },
 "nbformat": 4,
 "nbformat_minor": 5
}
